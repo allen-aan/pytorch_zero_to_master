{
 "cells": [
  {
   "cell_type": "code",
   "id": "initial_id",
   "metadata": {
    "collapsed": true,
    "ExecuteTime": {
     "end_time": "2024-08-22T10:18:10.339667Z",
     "start_time": "2024-08-22T10:18:10.336622Z"
    }
   },
   "source": [
    "from tokenize import endpats\n",
    "\n",
    "import torch\n",
    "from torch import nn\n",
    "from torch.utils.data import Dataset, DataLoader\n",
    "\n",
    "import torchvision\n",
    "from torchvision import datasets\n",
    "from torchvision import transforms\n",
    "from torchvision.transforms import ToTensor\n",
    "\n",
    "import matplotlib.pyplot as plt\n",
    "\n",
    "print(torch.__version__)\n",
    "print(torchvision.__version__)"
   ],
   "outputs": [
    {
     "name": "stdout",
     "output_type": "stream",
     "text": [
      "2.4.0\n",
      "0.19.0\n"
     ]
    }
   ],
   "execution_count": 22
  },
  {
   "metadata": {},
   "cell_type": "code",
   "outputs": [],
   "execution_count": null,
   "source": "",
   "id": "f3fa2d47701acebc"
  },
  {
   "metadata": {
    "ExecuteTime": {
     "end_time": "2024-08-22T17:37:41.783794Z",
     "start_time": "2024-08-22T17:37:41.779989Z"
    }
   },
   "cell_type": "code",
   "source": [
    "device = str('cuda' if torch.cuda.is_available() else 'cpu')\n",
    "device"
   ],
   "id": "92b8ac3321ea069e",
   "outputs": [
    {
     "data": {
      "text/plain": [
       "'cuda'"
      ]
     },
     "execution_count": 66,
     "metadata": {},
     "output_type": "execute_result"
    }
   ],
   "execution_count": 66
  },
  {
   "metadata": {
    "ExecuteTime": {
     "end_time": "2024-08-22T10:03:25.105752Z",
     "start_time": "2024-08-22T10:03:25.051163Z"
    }
   },
   "cell_type": "code",
   "source": [
    "import os\n",
    "from pathlib import Path\n",
    "train_data = datasets.FashionMNIST(#root=os.path.abspath(\"/tmp/pycharm_project_286/data\")\n",
    "                                   root=\"data\", \n",
    "                                   train=True, \n",
    "                                   transform=ToTensor(), \n",
    "                                   download=True,\n",
    "                                   target_transform=None)"
   ],
   "id": "d0fbd5e82cbd6cb6",
   "outputs": [],
   "execution_count": 4
  },
  {
   "metadata": {
    "ExecuteTime": {
     "end_time": "2024-08-22T10:07:08.897709Z",
     "start_time": "2024-08-22T10:07:08.892547Z"
    }
   },
   "cell_type": "code",
   "source": [
    "test_data = datasets.FashionMNIST(root=\"data\",\n",
    "                                  train=False,\n",
    "                                  transform=ToTensor(),\n",
    "                                  download=True,\n",
    "                                  target_transform=None)\n"
   ],
   "id": "e62f96bbc3b7992c",
   "outputs": [],
   "execution_count": 11
  },
  {
   "metadata": {
    "ExecuteTime": {
     "end_time": "2024-08-22T10:14:28.170027Z",
     "start_time": "2024-08-22T10:14:28.165353Z"
    }
   },
   "cell_type": "code",
   "source": [
    "len(train_data), len(test_data)\n",
    "train_data.class_to_idx\n",
    "train_data.targets"
   ],
   "id": "82f62e5ad5a2b392",
   "outputs": [
    {
     "data": {
      "text/plain": [
       "tensor([9, 0, 0,  ..., 3, 0, 5])"
      ]
     },
     "execution_count": 16,
     "metadata": {},
     "output_type": "execute_result"
    }
   ],
   "execution_count": 16
  },
  {
   "metadata": {
    "ExecuteTime": {
     "end_time": "2024-08-22T15:53:23.304421Z",
     "start_time": "2024-08-22T15:53:23.206921Z"
    }
   },
   "cell_type": "code",
   "source": [
    "image,label = train_data[0]\n",
    "plt.imshow(image.squeeze(),cmap='gray')\n",
    "plt.title(label)"
   ],
   "id": "36ab9440d3aa0ce6",
   "outputs": [
    {
     "data": {
      "text/plain": [
       "Text(0.5, 1.0, '9')"
      ]
     },
     "execution_count": 28,
     "metadata": {},
     "output_type": "execute_result"
    },
    {
     "data": {
      "text/plain": [
       "<Figure size 640x480 with 1 Axes>"
      ],
      "image/png": "[encoded data removed]"
     },
     "metadata": {},
     "output_type": "display_data"
    }
   ],
   "execution_count": 28
  },
  {
   "metadata": {
    "ExecuteTime": {
     "end_time": "2024-08-22T15:59:11.598311Z",
     "start_time": "2024-08-22T15:59:11.595001Z"
    }
   },
   "cell_type": "code",
   "source": [
    "BATCH_SIZE = 32\n",
    "train_dataloader = DataLoader(dataset=train_data, batch_size=BATCH_SIZE, shuffle=True)\n",
    "test_dataloader = DataLoader(dataset=test_data, batch_size=BATCH_SIZE, shuffle=False)\n",
    "train_dataloader, test_dataloader    "
   ],
   "id": "74d86664f9fbc74d",
   "outputs": [
    {
     "data": {
      "text/plain": [
       "(<torch.utils.data.dataloader.DataLoader at 0x7fa864206200>,\n",
       " <torch.utils.data.dataloader.DataLoader at 0x7fa8641e8bb0>)"
      ]
     },
     "execution_count": 32,
     "metadata": {},
     "output_type": "execute_result"
    }
   ],
   "execution_count": 32
  },
  {
   "metadata": {
    "ExecuteTime": {
     "end_time": "2024-08-22T10:24:19.085309Z",
     "start_time": "2024-08-22T10:24:19.075856Z"
    }
   },
   "cell_type": "code",
   "source": [
    "train_feature_batch, train_label_batch = next(iter(train_dataloader))\n",
    "train_feature_batch.shape, train_label_batch.shape"
   ],
   "id": "cc254fd82184d1f2",
   "outputs": [
    {
     "data": {
      "text/plain": [
       "(torch.Size([32, 1, 28, 28]), torch.Size([32]))"
      ]
     },
     "execution_count": 25,
     "metadata": {},
     "output_type": "execute_result"
    }
   ],
   "execution_count": 25
  },
  {
   "metadata": {
    "ExecuteTime": {
     "end_time": "2024-08-22T16:39:40.249833Z",
     "start_time": "2024-08-22T16:39:40.246474Z"
    }
   },
   "cell_type": "code",
   "source": [
    "class FashionMNISTModelV0(nn.Module):\n",
    "    def __init__(self,\n",
    "                 input_shape: int,\n",
    "                 hidden_shape: int,\n",
    "                 output_shape: int):\n",
    "        super().__init__()\n",
    "        self.layer_stack = nn.Sequential(\n",
    "            nn.Flatten(),\n",
    "            nn.Linear(input_shape, hidden_shape),\n",
    "            #nn.ReLU(),\n",
    "            nn.Linear(hidden_shape, output_shape),\n",
    "            #nn.ReLU()\n",
    "        )\n",
    "    def forward(self,x):\n",
    "        return self.layer_stack(x) "
   ],
   "id": "599b4f05b463210d",
   "outputs": [],
   "execution_count": 50
  },
  {
   "metadata": {
    "ExecuteTime": {
     "end_time": "2024-08-22T16:00:31.049605Z",
     "start_time": "2024-08-22T16:00:31.046413Z"
    }
   },
   "cell_type": "code",
   "source": [
    "torch.manual_seed(42)\n",
    "\n",
    "model_0 = FashionMNISTModelV0(input_shape= 28*28,\n",
    "                              hidden_shape= 10,\n",
    "                              output_shape= len(train_data.classes)).to(device)\n",
    "\n"
   ],
   "id": "28d14c238394646d",
   "outputs": [],
   "execution_count": 34
  },
  {
   "metadata": {
    "ExecuteTime": {
     "end_time": "2024-08-22T16:01:37.497929Z",
     "start_time": "2024-08-22T16:01:37.370269Z"
    }
   },
   "cell_type": "code",
   "source": [
    "from helper_function import accuracy_fn\n",
    "\n",
    "loss_fn = nn.CrossEntropyLoss()\n",
    "optimizer = torch.optim.SGD(model_0.parameters(), lr=0.1)"
   ],
   "id": "3e69648a9bf0c487",
   "outputs": [],
   "execution_count": 35
  },
  {
   "metadata": {
    "ExecuteTime": {
     "end_time": "2024-08-22T18:14:44.618326Z",
     "start_time": "2024-08-22T18:14:44.611733Z"
    }
   },
   "cell_type": "code",
   "source": [
    "from timeit import default_timer as timer\n",
    "\n",
    "def print_train_time(start: float,\n",
    "                     end: float,\n",
    "                     device: torch.device = None):\n",
    "    total_time = end - start   \n",
    "    print(f\"Total time on {device}: {total_time:.3f} seconds\")\n",
    "    return total_time"
   ],
   "id": "227a4f9f12ae0f72",
   "outputs": [],
   "execution_count": 90
  },
  {
   "metadata": {
    "ExecuteTime": {
     "end_time": "2024-08-22T18:14:46.156770Z",
     "start_time": "2024-08-22T18:14:46.153020Z"
    }
   },
   "cell_type": "code",
   "source": [
    "def train_step(model: nn.Module,\n",
    "               data_loader: DataLoader,\n",
    "               loss_fn: nn.Module,\n",
    "               optimizer: torch.optim.Optimizer,\n",
    "               accuracy_fn,\n",
    "               device: torch.device = device):\n",
    "    train_loss , train_acc = 0, 0\n",
    "    model.train()\n",
    "    for  X,y in data_loader:\n",
    "        X, y = X.to(device), y.to(device)\n",
    "    #for batch_idx, (X,y) in train_dataloader:\n",
    "        y_pred = model(X)\n",
    "        loss = loss_fn(y_pred, y)\n",
    "        train_loss += loss.item()\n",
    "        train_acc += accuracy_fn(y, y_pred.argmax(dim=1))\n",
    "        optimizer.zero_grad()\n",
    "        loss.backward()\n",
    "        optimizer.step()\n",
    "    print(f\"Train loss: {(train_loss / len(data_loader)):.5f} | Train acc: {(train_acc / len(data_loader)):.5f} % on {device}\")"
   ],
   "id": "55297d4960aef307",
   "outputs": [],
   "execution_count": 91
  },
  {
   "metadata": {
    "ExecuteTime": {
     "end_time": "2024-08-22T18:16:54.471242Z",
     "start_time": "2024-08-22T18:16:54.466159Z"
    }
   },
   "cell_type": "code",
   "source": [
    "def test_step(model: nn.Module,\n",
    "              data_loader: DataLoader,\n",
    "              accuracy_fn: nn.Module,\n",
    "              device: torch.device = device):\n",
    "    test_loss , test_acc = 0, 0\n",
    "    model.eval()\n",
    "    with torch.inference_mode():\n",
    "        for X,y in data_loader:\n",
    "            X, y = X.to(device), y.to(device)\n",
    "            test_pred = model(X)\n",
    "            loss = loss_fn(test_pred, y)\n",
    "            test_loss += loss.item()\n",
    "            test_acc += accuracy_fn(y, test_pred.argmax(dim=1))\n",
    "        print(f\"Test loss: {(test_loss / len(data_loader)):.5f} | Test acc: {(test_acc / len(data_loader)):.5f} % on {device}\")        "
   ],
   "id": "b24ecfcae2b4d367",
   "outputs": [],
   "execution_count": 95
  },
  {
   "metadata": {
    "ExecuteTime": {
     "end_time": "2024-08-22T18:10:47.647609Z",
     "start_time": "2024-08-22T18:10:47.644851Z"
    }
   },
   "cell_type": "code",
   "source": "",
   "id": "f68a6e0a5f52c61a",
   "outputs": [],
   "execution_count": 75
  },
  {
   "metadata": {
    "ExecuteTime": {
     "end_time": "2024-08-22T18:18:01.822880Z",
     "start_time": "2024-08-22T18:16:56.861170Z"
    }
   },
   "cell_type": "code",
   "source": [
    "from tqdm.auto import tqdm\n",
    "torch.manual_seed(42)\n",
    "train_time_start_on_gpu = timer()\n",
    "\n",
    "epochs = 10\n",
    "\n",
    "for epoch in tqdm(range(epochs)):\n",
    "    print(f\"Epoch {epoch}\")\n",
    "    train_step(model_0.to(device),train_dataloader,loss_fn,optimizer,accuracy_fn,device)\n",
    "    test_step(model_0.to(device),test_dataloader,accuracy_fn,device)\n",
    "train_time_end_on_gpu = timer()\n",
    "print_train_time(train_time_start_on_gpu,train_time_end_on_gpu,device)"
   ],
   "id": "782beaf7e4c27369",
   "outputs": [
    {
     "data": {
      "text/plain": [
       "  0%|          | 0/10 [00:00<?, ?it/s]"
      ],
      "application/vnd.jupyter.widget-view+json": {
       "version_major": 2,
       "version_minor": 0,
       "model_id": "3ee805a558a245c488b0080f8c5ba305"
      }
     },
     "metadata": {},
     "output_type": "display_data"
    },
    {
     "name": "stdout",
     "output_type": "stream",
     "text": [
      "Epoch 0\n",
      "Train loss: 0.35156 | Train acc: 87.30833 % on cuda\n",
      "Test loss: 0.44020 | Test acc: 84.89417 % on cuda\n",
      "Epoch 1\n",
      "Train loss: 0.35066 | Train acc: 87.45667 % on cuda\n",
      "Test loss: 0.43248 | Test acc: 84.94409 % on cuda\n",
      "Epoch 2\n",
      "Train loss: 0.35048 | Train acc: 87.32000 % on cuda\n",
      "Test loss: 0.43614 | Test acc: 84.94409 % on cuda\n",
      "Epoch 3\n",
      "Train loss: 0.34858 | Train acc: 87.46833 % on cuda\n",
      "Test loss: 0.45309 | Test acc: 84.56470 % on cuda\n",
      "Epoch 4\n",
      "Train loss: 0.34947 | Train acc: 87.45333 % on cuda\n",
      "Test loss: 0.44144 | Test acc: 84.52476 % on cuda\n",
      "Epoch 5\n",
      "Train loss: 0.34580 | Train acc: 87.54167 % on cuda\n",
      "Test loss: 0.44778 | Test acc: 84.86422 % on cuda\n",
      "Epoch 6\n",
      "Train loss: 0.34418 | Train acc: 87.69333 % on cuda\n",
      "Test loss: 0.43898 | Test acc: 84.68450 % on cuda\n",
      "Epoch 7\n",
      "Train loss: 0.34320 | Train acc: 87.49500 % on cuda\n",
      "Test loss: 0.43510 | Test acc: 85.06390 % on cuda\n",
      "Epoch 8\n",
      "Train loss: 0.34249 | Train acc: 87.60500 % on cuda\n",
      "Test loss: 0.43014 | Test acc: 85.04393 % on cuda\n",
      "Epoch 9\n",
      "Train loss: 0.34302 | Train acc: 87.70333 % on cuda\n",
      "Test loss: 0.44039 | Test acc: 85.17372 % on cuda\n",
      "Total time on cuda: 64.957 seconds\n"
     ]
    },
    {
     "data": {
      "text/plain": [
       "64.95653141799994"
      ]
     },
     "execution_count": 96,
     "metadata": {},
     "output_type": "execute_result"
    }
   ],
   "execution_count": 96
  },
  {
   "metadata": {
    "ExecuteTime": {
     "end_time": "2024-08-22T16:28:17.924653Z",
     "start_time": "2024-08-22T16:28:17.921594Z"
    }
   },
   "cell_type": "code",
   "source": "",
   "id": "213be37ac15175e3",
   "outputs": [
    {
     "data": {
      "text/plain": [
       "<enumerate at 0x7fa863f58640>"
      ]
     },
     "execution_count": 43,
     "metadata": {},
     "output_type": "execute_result"
    }
   ],
   "execution_count": 43
  },
  {
   "metadata": {
    "ExecuteTime": {
     "end_time": "2024-08-22T18:09:54.688141Z",
     "start_time": "2024-08-22T18:09:36.073822Z"
    }
   },
   "cell_type": "code",
   "source": [
    "from tqdm.auto import tqdm\n",
    "\n",
    "torch.manual_seed(42)\n",
    "train_time_start_on_cpu = timer()\n",
    "\n",
    "epochs = 3\n",
    "\n",
    "for epoch in tqdm(range(epochs)):\n",
    "    print(f\"Epoch {epoch}\")\n",
    "    train_loss = 0\n",
    "    model_0.train()\n",
    "    for batch_idx, (X,y) in enumerate(train_dataloader):\n",
    "    #for batch_idx, (X,y) in train_dataloader:\n",
    "        y_pred = model_0(X)\n",
    "        loss = loss_fn(y_pred, y)\n",
    "        train_loss += loss.item()\n",
    "        optimizer.zero_grad()\n",
    "        loss.backward()\n",
    "        optimizer.step()\n",
    "        \n",
    "        if batch_idx % 100 == 0:\n",
    "            print(f\"Looked at {batch_idx * len(X)} / {len(train_dataloader.dataset)} samples.\")\n",
    "        train_loss /= len(train_dataloader)\n",
    "    \n",
    "    test_loss, test_acc = 0, 0\n",
    "    model_0.eval()\n",
    "    with torch.inference_mode():\n",
    "        for X_test, y_test in test_dataloader:\n",
    "            test_pred = model_0(X_test)\n",
    "            \n",
    "            test_loss += loss_fn(test_pred, y_test)\n",
    "            test_acc += accuracy_fn(y_pred=test_pred.argmax(dim=1), y_true=y_test)\n",
    "        test_loss /= len(test_dataloader)\n",
    "        test_acc /= len(test_dataloader)\n",
    "    print(f\"\\nTrain loss: {train_loss:.4f} | Test loss: {test_loss:.4f} | Test accuracy: {test_acc:.4f}\")\n",
    "\n",
    "train_time_end_on_cpu = timer()\n",
    "total_train_time = print_train_time(start=train_time_start_on_cpu, end=train_time_end_on_cpu)"
   ],
   "id": "89d195add10b9568",
   "outputs": [
    {
     "data": {
      "text/plain": [
       "  0%|          | 0/3 [00:00<?, ?it/s]"
      ],
      "application/vnd.jupyter.widget-view+json": {
       "version_major": 2,
       "version_minor": 0,
       "model_id": "86130cfd476d4ba8884f9a9be2c3f030"
      }
     },
     "metadata": {},
     "output_type": "display_data"
    },
    {
     "name": "stdout",
     "output_type": "stream",
     "text": [
      "Epoch 0\n",
      "Looked at 0 / 60000 samples.\n",
      "Looked at 3200 / 60000 samples.\n",
      "Looked at 6400 / 60000 samples.\n",
      "Looked at 9600 / 60000 samples.\n",
      "Looked at 12800 / 60000 samples.\n",
      "Looked at 16000 / 60000 samples.\n",
      "Looked at 19200 / 60000 samples.\n",
      "Looked at 22400 / 60000 samples.\n",
      "Looked at 25600 / 60000 samples.\n",
      "Looked at 28800 / 60000 samples.\n",
      "Looked at 32000 / 60000 samples.\n",
      "Looked at 35200 / 60000 samples.\n",
      "Looked at 38400 / 60000 samples.\n",
      "Looked at 41600 / 60000 samples.\n",
      "Looked at 44800 / 60000 samples.\n",
      "Looked at 48000 / 60000 samples.\n",
      "Looked at 51200 / 60000 samples.\n",
      "Looked at 54400 / 60000 samples.\n",
      "Looked at 57600 / 60000 samples.\n",
      "\n",
      "Train loss: 0.0001 | Test loss: 0.4416 | Test accuracy: 84.4449\n",
      "Epoch 1\n",
      "Looked at 0 / 60000 samples.\n",
      "Looked at 3200 / 60000 samples.\n",
      "Looked at 6400 / 60000 samples.\n",
      "Looked at 9600 / 60000 samples.\n",
      "Looked at 12800 / 60000 samples.\n",
      "Looked at 16000 / 60000 samples.\n",
      "Looked at 19200 / 60000 samples.\n",
      "Looked at 22400 / 60000 samples.\n",
      "Looked at 25600 / 60000 samples.\n",
      "Looked at 28800 / 60000 samples.\n",
      "Looked at 32000 / 60000 samples.\n",
      "Looked at 35200 / 60000 samples.\n",
      "Looked at 38400 / 60000 samples.\n",
      "Looked at 41600 / 60000 samples.\n",
      "Looked at 44800 / 60000 samples.\n",
      "Looked at 48000 / 60000 samples.\n",
      "Looked at 51200 / 60000 samples.\n",
      "Looked at 54400 / 60000 samples.\n",
      "Looked at 57600 / 60000 samples.\n",
      "\n",
      "Train loss: 0.0003 | Test loss: 0.4442 | Test accuracy: 84.3351\n",
      "Epoch 2\n",
      "Looked at 0 / 60000 samples.\n",
      "Looked at 3200 / 60000 samples.\n",
      "Looked at 6400 / 60000 samples.\n",
      "Looked at 9600 / 60000 samples.\n",
      "Looked at 12800 / 60000 samples.\n",
      "Looked at 16000 / 60000 samples.\n",
      "Looked at 19200 / 60000 samples.\n",
      "Looked at 22400 / 60000 samples.\n",
      "Looked at 25600 / 60000 samples.\n",
      "Looked at 28800 / 60000 samples.\n",
      "Looked at 32000 / 60000 samples.\n",
      "Looked at 35200 / 60000 samples.\n",
      "Looked at 38400 / 60000 samples.\n",
      "Looked at 41600 / 60000 samples.\n",
      "Looked at 44800 / 60000 samples.\n",
      "Looked at 48000 / 60000 samples.\n",
      "Looked at 51200 / 60000 samples.\n",
      "Looked at 54400 / 60000 samples.\n",
      "Looked at 57600 / 60000 samples.\n",
      "\n",
      "Train loss: 0.0002 | Test loss: 0.4342 | Test accuracy: 85.2536\n",
      "Total time on None: 18.608 seconds\n"
     ]
    }
   ],
   "execution_count": 72
  },
  {
   "metadata": {
    "ExecuteTime": {
     "end_time": "2024-08-22T18:25:49.013438Z",
     "start_time": "2024-08-22T18:25:44.095464Z"
    }
   },
   "cell_type": "code",
   "source": [
    "torch.manual_seed(42)\n",
    "def eval_mode(model: torch.nn.Module,\n",
    "              data_loader: DataLoader,\n",
    "              loss_fn: torch.nn.CrossEntropyLoss,\n",
    "              accuracy_fn,\n",
    "              device: torch.device = device):\n",
    "    loss, accuracy = 0, 0\n",
    "    model.eval()\n",
    "    with torch.inference_mode():\n",
    "        for X, y in tqdm(data_loader):\n",
    "            X, y = X.to(device), y.to(device)\n",
    "            y_pred = model(X)\n",
    "            loss += loss_fn(y_pred, y)\n",
    "            accuracy += accuracy_fn(y_pred=y_pred.argmax(dim=1), y_true=y)\n",
    "        loss /= len(data_loader)\n",
    "        accuracy /= len(data_loader)\n",
    "    return {\"model_name\": model.__class__.__name__,\n",
    "            \"model_loss\": loss,\n",
    "            \"model_accuracy\": accuracy}\n",
    "model_0_result = eval_mode(model=model_0.to(device),\n",
    "                           data_loader=train_dataloader,\n",
    "                           loss_fn=loss_fn,\n",
    "                           accuracy_fn=accuracy_fn,\n",
    "                           device=device)\n",
    "\n",
    "            "
   ],
   "id": "40c00436bf0f3f76",
   "outputs": [
    {
     "data": {
      "text/plain": [
       "  0%|          | 0/1875 [00:00<?, ?it/s]"
      ],
      "application/vnd.jupyter.widget-view+json": {
       "version_major": 2,
       "version_minor": 0,
       "model_id": "6cebb167ef2f4737bf1bd0a0c85a1a18"
      }
     },
     "metadata": {},
     "output_type": "display_data"
    }
   ],
   "execution_count": 106
  },
  {
   "metadata": {
    "ExecuteTime": {
     "end_time": "2024-08-22T18:25:52.943936Z",
     "start_time": "2024-08-22T18:25:52.938199Z"
    }
   },
   "cell_type": "code",
   "source": "model_0_result",
   "id": "e0d243f812297cd0",
   "outputs": [
    {
     "data": {
      "text/plain": [
       "{'model_name': 'FashionMNISTModelV0',\n",
       " 'model_loss': tensor(0.3239, device='cuda:0'),\n",
       " 'model_accuracy': 88.355}"
      ]
     },
     "execution_count": 107,
     "metadata": {},
     "output_type": "execute_result"
    }
   ],
   "execution_count": 107
  }
 ],
 "metadata": {
  "kernelspec": {
   "display_name": "Python 3",
   "language": "python",
   "name": "python3"
  },
  "language_info": {
   "codemirror_mode": {
    "name": "ipython",
    "version": 2
   },
   "file_extension": ".py",
   "mimetype": "text/x-python",
   "name": "python",
   "nbconvert_exporter": "python",
   "pygments_lexer": "ipython2",
   "version": "2.7.6"
  }
 },
 "nbformat": 4,
 "nbformat_minor": 5
}
