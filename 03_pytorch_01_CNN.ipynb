{
 "cells": [
  {
   "cell_type": "code",
   "id": "initial_id",
   "metadata": {
    "collapsed": true,
    "ExecuteTime": {
     "end_time": "2024-08-26T14:49:32.963823Z",
     "start_time": "2024-08-26T14:49:30.858998Z"
    }
   },
   "source": [
    "#import torch\n",
    "import torch\n",
    "from fontTools.merge import timer\n",
    "from pandas.io.sas.sas_constants import dataset_length\n",
    "from torch import nn\n",
    "from torch.utils.data import Dataset, DataLoader\n",
    "\n",
    "#import torchvision\n",
    "import torchvision\n",
    "from torchvision import datasets, transforms\n",
    "from torchvision.transforms import ToTensor\n",
    "\n",
    "#import matplotlib\n",
    "import matplotlib.pyplot as plt\n",
    "\n",
    "import pandas as pd\n",
    "\n",
    "from timeit import default_timer as timer \n",
    "from tqdm.auto import tqdm\n",
    "\n",
    "import helper_function\n",
    "from helper_function import pred_and_plot_image"
   ],
   "outputs": [],
   "execution_count": 2
  },
  {
   "metadata": {
    "ExecuteTime": {
     "end_time": "2024-08-26T14:49:32.986100Z",
     "start_time": "2024-08-26T14:49:32.983390Z"
    }
   },
   "cell_type": "code",
   "source": [
    "print(torch.__version__)\n",
    "print(torchvision.__version__)"
   ],
   "id": "7adee08029182a17",
   "outputs": [
    {
     "name": "stdout",
     "output_type": "stream",
     "text": [
      "2.4.0\n",
      "0.19.0\n"
     ]
    }
   ],
   "execution_count": 3
  },
  {
   "metadata": {
    "ExecuteTime": {
     "end_time": "2024-08-26T14:49:33.047872Z",
     "start_time": "2024-08-26T14:49:33.045327Z"
    }
   },
   "cell_type": "code",
   "source": [
    "device = 'cuda' if torch.cuda.is_available() else 'cpu'\n",
    "print(device)"
   ],
   "id": "4be43f1be04fd0dd",
   "outputs": [
    {
     "name": "stdout",
     "output_type": "stream",
     "text": [
      "cuda\n"
     ]
    }
   ],
   "execution_count": 4
  },
  {
   "metadata": {
    "ExecuteTime": {
     "end_time": "2024-08-26T14:49:33.260131Z",
     "start_time": "2024-08-26T14:49:33.160133Z"
    }
   },
   "cell_type": "code",
   "source": [
    "train_data = datasets.FashionMNIST(\n",
    "    root= 'data',\n",
    "    train=True,\n",
    "    transform=transforms.ToTensor(),\n",
    "    download=False,\n",
    "    target_transform=None)\n",
    "test_data = datasets.FashionMNIST(\n",
    "    root= 'data',\n",
    "    train=False,\n",
    "    transform=transforms.ToTensor(),\n",
    "    download=False,\n",
    "    target_transform=None)"
   ],
   "id": "da28f20cb7612876",
   "outputs": [],
   "execution_count": 5
  },
  {
   "metadata": {
    "ExecuteTime": {
     "end_time": "2024-08-26T14:49:33.277388Z",
     "start_time": "2024-08-26T14:49:33.269063Z"
    }
   },
   "cell_type": "code",
   "source": "len(train_data), len(test_data)",
   "id": "380ba88ba338d84a",
   "outputs": [
    {
     "data": {
      "text/plain": [
       "(60000, 10000)"
      ]
     },
     "execution_count": 6,
     "metadata": {},
     "output_type": "execute_result"
    }
   ],
   "execution_count": 6
  },
  {
   "metadata": {
    "ExecuteTime": {
     "end_time": "2024-08-26T14:49:33.394036Z",
     "start_time": "2024-08-26T14:49:33.390411Z"
    }
   },
   "cell_type": "code",
   "source": [
    "#check the data type of train_data\n",
    "image_0, label_0 = train_data[0]\n",
    "image_0.shape"
   ],
   "id": "9742a316e95a3a6a",
   "outputs": [
    {
     "data": {
      "text/plain": [
       "torch.Size([1, 28, 28])"
      ]
     },
     "execution_count": 7,
     "metadata": {},
     "output_type": "execute_result"
    }
   ],
   "execution_count": 7
  },
  {
   "metadata": {
    "ExecuteTime": {
     "end_time": "2024-08-26T14:49:33.514413Z",
     "start_time": "2024-08-26T14:49:33.511357Z"
    }
   },
   "cell_type": "code",
   "source": [
    "class_names = train_data.classes\n",
    "class_names"
   ],
   "id": "ec1b827f2650ce40",
   "outputs": [
    {
     "data": {
      "text/plain": [
       "['T-shirt/top',\n",
       " 'Trouser',\n",
       " 'Pullover',\n",
       " 'Dress',\n",
       " 'Coat',\n",
       " 'Sandal',\n",
       " 'Shirt',\n",
       " 'Sneaker',\n",
       " 'Bag',\n",
       " 'Ankle boot']"
      ]
     },
     "execution_count": 8,
     "metadata": {},
     "output_type": "execute_result"
    }
   ],
   "execution_count": 8
  },
  {
   "metadata": {
    "ExecuteTime": {
     "end_time": "2024-08-26T14:49:33.602482Z",
     "start_time": "2024-08-26T14:49:33.599687Z"
    }
   },
   "cell_type": "code",
   "source": [
    "class_name_idx = train_data.class_to_idx\n",
    "class_name_idx"
   ],
   "id": "f608c1dda3a1288d",
   "outputs": [
    {
     "data": {
      "text/plain": [
       "{'T-shirt/top': 0,\n",
       " 'Trouser': 1,\n",
       " 'Pullover': 2,\n",
       " 'Dress': 3,\n",
       " 'Coat': 4,\n",
       " 'Sandal': 5,\n",
       " 'Shirt': 6,\n",
       " 'Sneaker': 7,\n",
       " 'Bag': 8,\n",
       " 'Ankle boot': 9}"
      ]
     },
     "execution_count": 9,
     "metadata": {},
     "output_type": "execute_result"
    }
   ],
   "execution_count": 9
  },
  {
   "metadata": {
    "ExecuteTime": {
     "end_time": "2024-08-26T14:49:33.693746Z",
     "start_time": "2024-08-26T14:49:33.689856Z"
    }
   },
   "cell_type": "code",
   "source": [
    "target = train_data.targets\n",
    "target"
   ],
   "id": "27f829eb3111a26a",
   "outputs": [
    {
     "data": {
      "text/plain": [
       "tensor([9, 0, 0,  ..., 3, 0, 5])"
      ]
     },
     "execution_count": 10,
     "metadata": {},
     "output_type": "execute_result"
    }
   ],
   "execution_count": 10
  },
  {
   "metadata": {},
   "cell_type": "markdown",
   "source": "",
   "id": "75e6ca3b43640730"
  },
  {
   "metadata": {
    "ExecuteTime": {
     "end_time": "2024-08-26T14:49:33.808008Z",
     "start_time": "2024-08-26T14:49:33.747054Z"
    }
   },
   "cell_type": "code",
   "source": [
    "#visualizing data\n",
    "print(f\"Image shape: {image_0.shape}\")\n",
    "plt.imshow(image_0.squeeze(), cmap='gray')\n",
    "plt.title(class_names[label_0])\n",
    "plt.axis('off')"
   ],
   "id": "f57f09ac3e0ebf6",
   "outputs": [
    {
     "name": "stdout",
     "output_type": "stream",
     "text": [
      "Image shape: torch.Size([1, 28, 28])\n"
     ]
    },
    {
     "data": {
      "text/plain": [
       "(-0.5, 27.5, 27.5, -0.5)"
      ]
     },
     "execution_count": 11,
     "metadata": {},
     "output_type": "execute_result"
    },
    {
     "data": {
      "text/plain": [
       "<Figure size 640x480 with 1 Axes>"
      ],
      "image/png": "[encoded data removed]"
     },
     "metadata": {},
     "output_type": "display_data"
    }
   ],
   "execution_count": 11
  },
  {
   "metadata": {
    "ExecuteTime": {
     "end_time": "2024-08-26T14:49:34.461585Z",
     "start_time": "2024-08-26T14:49:33.833088Z"
    }
   },
   "cell_type": "code",
   "source": [
    "fig = plt.figure(figsize=(10, 10))\n",
    "rows, cols = 4, 4\n",
    "for i in range(1, rows * cols+1):\n",
    "    random_idx = torch.randint(0, len(train_data), size=[1]).item()\n",
    "    img, label = train_data[random_idx]\n",
    "    fig.add_subplot(rows, cols, i)\n",
    "    plt.imshow(img.squeeze(), cmap='gray')\n",
    "    plt.title(class_names[label])\n",
    "    plt.axis('off')\n",
    "    "
   ],
   "id": "b5e7c8e259bc4a40",
   "outputs": [
    {
     "data": {
      "text/plain": [
       "<Figure size 1000x1000 with 16 Axes>"
      ],
      "image/png": "[encoded data removed]"
     },
     "metadata": {},
     "output_type": "display_data"
    }
   ],
   "execution_count": 12
  },
  {
   "metadata": {
    "ExecuteTime": {
     "end_time": "2024-08-26T14:50:17.172906Z",
     "start_time": "2024-08-26T14:50:17.169190Z"
    }
   },
   "cell_type": "code",
   "source": [
    "img, label = train_data[1]\n",
    "img.squeeze().shape"
   ],
   "id": "d9ac78802ce2321d",
   "outputs": [
    {
     "data": {
      "text/plain": [
       "torch.Size([28, 28])"
      ]
     },
     "execution_count": 19,
     "metadata": {},
     "output_type": "execute_result"
    }
   ],
   "execution_count": 19
  },
  {
   "metadata": {
    "ExecuteTime": {
     "end_time": "2024-08-26T14:49:34.544775Z",
     "start_time": "2024-08-26T14:49:34.533151Z"
    }
   },
   "cell_type": "code",
   "source": [
    "#split train_data, test_data into batch\n",
    "BATCH_SIZE = 32\n",
    "\n",
    "train_dataloader = DataLoader(train_data, \n",
    "                              batch_size=BATCH_SIZE, \n",
    "                              shuffle=True)\n",
    "test_dataloader = DataLoader(test_data, \n",
    "                             batch_size=BATCH_SIZE, \n",
    "                             shuffle=False)\n",
    "train_features_batch, train_lables_batch = next(iter(train_dataloader))\n",
    "train_features_batch.shape, train_lables_batch.shape"
   ],
   "id": "4c2b1457a13bf9bd",
   "outputs": [
    {
     "data": {
      "text/plain": [
       "(torch.Size([32, 1, 28, 28]), torch.Size([32]))"
      ]
     },
     "execution_count": 14,
     "metadata": {},
     "output_type": "execute_result"
    }
   ],
   "execution_count": 14
  },
  {
   "metadata": {
    "ExecuteTime": {
     "end_time": "2024-08-26T14:49:34.597965Z",
     "start_time": "2024-08-26T14:49:34.593008Z"
    }
   },
   "cell_type": "code",
   "source": [
    "#Build a model with CNN\n",
    "class FASHION_MNIST_Model_CNN(nn.Module):\n",
    "    def __init__(self, in_channels: int, \n",
    "                 hidden_units: int,\n",
    "                 out_channels: int,\n",
    "                 ):\n",
    "        super().__init__()\n",
    "        self.conv_block_1 = nn.Sequential(\n",
    "            nn.Conv2d(in_channels=in_channels,\n",
    "                      out_channels=hidden_units,\n",
    "                      kernel_size=3,\n",
    "                      stride=1,\n",
    "                      padding=1),\n",
    "            nn.ReLU(),\n",
    "            nn.Conv2d(in_channels=hidden_units,\n",
    "                      out_channels=hidden_units,\n",
    "                      kernel_size=3,\n",
    "                      stride=1,\n",
    "                      padding=1),\n",
    "            nn.ReLU(),\n",
    "            nn.MaxPool2d(kernel_size=2)\n",
    "        )\n",
    "        self.conv_block_2 = nn.Sequential(\n",
    "            nn.Conv2d(in_channels=hidden_units,\n",
    "                      out_channels=hidden_units,\n",
    "                      kernel_size=3,\n",
    "                      stride=1,\n",
    "                      padding=1),\n",
    "            nn.ReLU(),\n",
    "            nn.Conv2d(in_channels=hidden_units,\n",
    "                      out_channels=hidden_units,\n",
    "                      kernel_size=3,\n",
    "                      stride=1,\n",
    "                      padding=1),\n",
    "            nn.ReLU(),\n",
    "            nn.MaxPool2d(kernel_size=2)\n",
    "        )\n",
    "        self.classifier = nn.Sequential(\n",
    "            nn.Flatten(),\n",
    "            nn.Linear(in_features=hidden_units*7*7,\n",
    "                      out_features= out_channels\n",
    "                      )\n",
    "        )\n",
    "    def forward(self, x):\n",
    "        return self.classifier(self.conv_block_2(self.conv_block_1(x)))"
   ],
   "id": "845f6b083ed47602",
   "outputs": [],
   "execution_count": 15
  },
  {
   "metadata": {
    "ExecuteTime": {
     "end_time": "2024-08-26T14:49:35.796323Z",
     "start_time": "2024-08-26T14:49:34.642136Z"
    }
   },
   "cell_type": "code",
   "source": [
    "torch.manual_seed(42)\n",
    "model_2 = FASHION_MNIST_Model_CNN(in_channels=1,\n",
    "                                  hidden_units=10,\n",
    "                                  out_channels=len(class_names)).to(device)"
   ],
   "id": "aeb1562c4a58ee99",
   "outputs": [],
   "execution_count": 16
  },
  {
   "metadata": {
    "ExecuteTime": {
     "start_time": "2024-08-26T14:49:35.807863Z"
    }
   },
   "cell_type": "code",
   "source": [
    "rand_image_tensor = torch.rand(( 1, 1, 28, 28))\n",
    "model_2(rand_image_tensor.to(device))"
   ],
   "id": "9958f2ef14e15a18",
   "outputs": [
    {
     "ename": "KeyboardInterrupt",
     "evalue": "",
     "output_type": "error",
     "traceback": [
      "\u001B[0;31m---------------------------------------------------------------------------\u001B[0m",
      "\u001B[0;31mKeyboardInterrupt\u001B[0m                         Traceback (most recent call last)",
      "Cell \u001B[0;32mIn[17], line 2\u001B[0m\n\u001B[1;32m      1\u001B[0m rand_image_tensor \u001B[38;5;241m=\u001B[39m torch\u001B[38;5;241m.\u001B[39mrand(( \u001B[38;5;241m1\u001B[39m, \u001B[38;5;241m1\u001B[39m, \u001B[38;5;241m28\u001B[39m, \u001B[38;5;241m28\u001B[39m))\n\u001B[0;32m----> 2\u001B[0m \u001B[43mmodel_2\u001B[49m\u001B[43m(\u001B[49m\u001B[43mrand_image_tensor\u001B[49m\u001B[38;5;241;43m.\u001B[39;49m\u001B[43mto\u001B[49m\u001B[43m(\u001B[49m\u001B[43mdevice\u001B[49m\u001B[43m)\u001B[49m\u001B[43m)\u001B[49m\n",
      "File \u001B[0;32m~/anaconda3/envs/myproject/lib/python3.10/site-packages/torch/nn/modules/module.py:1553\u001B[0m, in \u001B[0;36mModule._wrapped_call_impl\u001B[0;34m(self, *args, **kwargs)\u001B[0m\n\u001B[1;32m   1551\u001B[0m     \u001B[38;5;28;01mreturn\u001B[39;00m \u001B[38;5;28mself\u001B[39m\u001B[38;5;241m.\u001B[39m_compiled_call_impl(\u001B[38;5;241m*\u001B[39margs, \u001B[38;5;241m*\u001B[39m\u001B[38;5;241m*\u001B[39mkwargs)  \u001B[38;5;66;03m# type: ignore[misc]\u001B[39;00m\n\u001B[1;32m   1552\u001B[0m \u001B[38;5;28;01melse\u001B[39;00m:\n\u001B[0;32m-> 1553\u001B[0m     \u001B[38;5;28;01mreturn\u001B[39;00m \u001B[38;5;28;43mself\u001B[39;49m\u001B[38;5;241;43m.\u001B[39;49m\u001B[43m_call_impl\u001B[49m\u001B[43m(\u001B[49m\u001B[38;5;241;43m*\u001B[39;49m\u001B[43margs\u001B[49m\u001B[43m,\u001B[49m\u001B[43m \u001B[49m\u001B[38;5;241;43m*\u001B[39;49m\u001B[38;5;241;43m*\u001B[39;49m\u001B[43mkwargs\u001B[49m\u001B[43m)\u001B[49m\n",
      "File \u001B[0;32m~/anaconda3/envs/myproject/lib/python3.10/site-packages/torch/nn/modules/module.py:1562\u001B[0m, in \u001B[0;36mModule._call_impl\u001B[0;34m(self, *args, **kwargs)\u001B[0m\n\u001B[1;32m   1557\u001B[0m \u001B[38;5;66;03m# If we don't have any hooks, we want to skip the rest of the logic in\u001B[39;00m\n\u001B[1;32m   1558\u001B[0m \u001B[38;5;66;03m# this function, and just call forward.\u001B[39;00m\n\u001B[1;32m   1559\u001B[0m \u001B[38;5;28;01mif\u001B[39;00m \u001B[38;5;129;01mnot\u001B[39;00m (\u001B[38;5;28mself\u001B[39m\u001B[38;5;241m.\u001B[39m_backward_hooks \u001B[38;5;129;01mor\u001B[39;00m \u001B[38;5;28mself\u001B[39m\u001B[38;5;241m.\u001B[39m_backward_pre_hooks \u001B[38;5;129;01mor\u001B[39;00m \u001B[38;5;28mself\u001B[39m\u001B[38;5;241m.\u001B[39m_forward_hooks \u001B[38;5;129;01mor\u001B[39;00m \u001B[38;5;28mself\u001B[39m\u001B[38;5;241m.\u001B[39m_forward_pre_hooks\n\u001B[1;32m   1560\u001B[0m         \u001B[38;5;129;01mor\u001B[39;00m _global_backward_pre_hooks \u001B[38;5;129;01mor\u001B[39;00m _global_backward_hooks\n\u001B[1;32m   1561\u001B[0m         \u001B[38;5;129;01mor\u001B[39;00m _global_forward_hooks \u001B[38;5;129;01mor\u001B[39;00m _global_forward_pre_hooks):\n\u001B[0;32m-> 1562\u001B[0m     \u001B[38;5;28;01mreturn\u001B[39;00m \u001B[43mforward_call\u001B[49m\u001B[43m(\u001B[49m\u001B[38;5;241;43m*\u001B[39;49m\u001B[43margs\u001B[49m\u001B[43m,\u001B[49m\u001B[43m \u001B[49m\u001B[38;5;241;43m*\u001B[39;49m\u001B[38;5;241;43m*\u001B[39;49m\u001B[43mkwargs\u001B[49m\u001B[43m)\u001B[49m\n\u001B[1;32m   1564\u001B[0m \u001B[38;5;28;01mtry\u001B[39;00m:\n\u001B[1;32m   1565\u001B[0m     result \u001B[38;5;241m=\u001B[39m \u001B[38;5;28;01mNone\u001B[39;00m\n",
      "Cell \u001B[0;32mIn[15], line 45\u001B[0m, in \u001B[0;36mFASHION_MNIST_Model_CNN.forward\u001B[0;34m(self, x)\u001B[0m\n\u001B[1;32m     44\u001B[0m \u001B[38;5;28;01mdef\u001B[39;00m \u001B[38;5;21mforward\u001B[39m(\u001B[38;5;28mself\u001B[39m, x):\n\u001B[0;32m---> 45\u001B[0m     \u001B[38;5;28;01mreturn\u001B[39;00m \u001B[38;5;28mself\u001B[39m\u001B[38;5;241m.\u001B[39mclassifier(\u001B[38;5;28mself\u001B[39m\u001B[38;5;241m.\u001B[39mconv_block_2(\u001B[38;5;28;43mself\u001B[39;49m\u001B[38;5;241;43m.\u001B[39;49m\u001B[43mconv_block_1\u001B[49m\u001B[43m(\u001B[49m\u001B[43mx\u001B[49m\u001B[43m)\u001B[49m))\n",
      "File \u001B[0;32m~/anaconda3/envs/myproject/lib/python3.10/site-packages/torch/nn/modules/module.py:1553\u001B[0m, in \u001B[0;36mModule._wrapped_call_impl\u001B[0;34m(self, *args, **kwargs)\u001B[0m\n\u001B[1;32m   1551\u001B[0m     \u001B[38;5;28;01mreturn\u001B[39;00m \u001B[38;5;28mself\u001B[39m\u001B[38;5;241m.\u001B[39m_compiled_call_impl(\u001B[38;5;241m*\u001B[39margs, \u001B[38;5;241m*\u001B[39m\u001B[38;5;241m*\u001B[39mkwargs)  \u001B[38;5;66;03m# type: ignore[misc]\u001B[39;00m\n\u001B[1;32m   1552\u001B[0m \u001B[38;5;28;01melse\u001B[39;00m:\n\u001B[0;32m-> 1553\u001B[0m     \u001B[38;5;28;01mreturn\u001B[39;00m \u001B[38;5;28;43mself\u001B[39;49m\u001B[38;5;241;43m.\u001B[39;49m\u001B[43m_call_impl\u001B[49m\u001B[43m(\u001B[49m\u001B[38;5;241;43m*\u001B[39;49m\u001B[43margs\u001B[49m\u001B[43m,\u001B[49m\u001B[43m \u001B[49m\u001B[38;5;241;43m*\u001B[39;49m\u001B[38;5;241;43m*\u001B[39;49m\u001B[43mkwargs\u001B[49m\u001B[43m)\u001B[49m\n",
      "File \u001B[0;32m~/anaconda3/envs/myproject/lib/python3.10/site-packages/torch/nn/modules/module.py:1562\u001B[0m, in \u001B[0;36mModule._call_impl\u001B[0;34m(self, *args, **kwargs)\u001B[0m\n\u001B[1;32m   1557\u001B[0m \u001B[38;5;66;03m# If we don't have any hooks, we want to skip the rest of the logic in\u001B[39;00m\n\u001B[1;32m   1558\u001B[0m \u001B[38;5;66;03m# this function, and just call forward.\u001B[39;00m\n\u001B[1;32m   1559\u001B[0m \u001B[38;5;28;01mif\u001B[39;00m \u001B[38;5;129;01mnot\u001B[39;00m (\u001B[38;5;28mself\u001B[39m\u001B[38;5;241m.\u001B[39m_backward_hooks \u001B[38;5;129;01mor\u001B[39;00m \u001B[38;5;28mself\u001B[39m\u001B[38;5;241m.\u001B[39m_backward_pre_hooks \u001B[38;5;129;01mor\u001B[39;00m \u001B[38;5;28mself\u001B[39m\u001B[38;5;241m.\u001B[39m_forward_hooks \u001B[38;5;129;01mor\u001B[39;00m \u001B[38;5;28mself\u001B[39m\u001B[38;5;241m.\u001B[39m_forward_pre_hooks\n\u001B[1;32m   1560\u001B[0m         \u001B[38;5;129;01mor\u001B[39;00m _global_backward_pre_hooks \u001B[38;5;129;01mor\u001B[39;00m _global_backward_hooks\n\u001B[1;32m   1561\u001B[0m         \u001B[38;5;129;01mor\u001B[39;00m _global_forward_hooks \u001B[38;5;129;01mor\u001B[39;00m _global_forward_pre_hooks):\n\u001B[0;32m-> 1562\u001B[0m     \u001B[38;5;28;01mreturn\u001B[39;00m \u001B[43mforward_call\u001B[49m\u001B[43m(\u001B[49m\u001B[38;5;241;43m*\u001B[39;49m\u001B[43margs\u001B[49m\u001B[43m,\u001B[49m\u001B[43m \u001B[49m\u001B[38;5;241;43m*\u001B[39;49m\u001B[38;5;241;43m*\u001B[39;49m\u001B[43mkwargs\u001B[49m\u001B[43m)\u001B[49m\n\u001B[1;32m   1564\u001B[0m \u001B[38;5;28;01mtry\u001B[39;00m:\n\u001B[1;32m   1565\u001B[0m     result \u001B[38;5;241m=\u001B[39m \u001B[38;5;28;01mNone\u001B[39;00m\n",
      "File \u001B[0;32m~/anaconda3/envs/myproject/lib/python3.10/site-packages/torch/nn/modules/container.py:219\u001B[0m, in \u001B[0;36mSequential.forward\u001B[0;34m(self, input)\u001B[0m\n\u001B[1;32m    217\u001B[0m \u001B[38;5;28;01mdef\u001B[39;00m \u001B[38;5;21mforward\u001B[39m(\u001B[38;5;28mself\u001B[39m, \u001B[38;5;28minput\u001B[39m):\n\u001B[1;32m    218\u001B[0m     \u001B[38;5;28;01mfor\u001B[39;00m module \u001B[38;5;129;01min\u001B[39;00m \u001B[38;5;28mself\u001B[39m:\n\u001B[0;32m--> 219\u001B[0m         \u001B[38;5;28minput\u001B[39m \u001B[38;5;241m=\u001B[39m \u001B[43mmodule\u001B[49m\u001B[43m(\u001B[49m\u001B[38;5;28;43minput\u001B[39;49m\u001B[43m)\u001B[49m\n\u001B[1;32m    220\u001B[0m     \u001B[38;5;28;01mreturn\u001B[39;00m \u001B[38;5;28minput\u001B[39m\n",
      "File \u001B[0;32m~/anaconda3/envs/myproject/lib/python3.10/site-packages/torch/nn/modules/module.py:1553\u001B[0m, in \u001B[0;36mModule._wrapped_call_impl\u001B[0;34m(self, *args, **kwargs)\u001B[0m\n\u001B[1;32m   1551\u001B[0m     \u001B[38;5;28;01mreturn\u001B[39;00m \u001B[38;5;28mself\u001B[39m\u001B[38;5;241m.\u001B[39m_compiled_call_impl(\u001B[38;5;241m*\u001B[39margs, \u001B[38;5;241m*\u001B[39m\u001B[38;5;241m*\u001B[39mkwargs)  \u001B[38;5;66;03m# type: ignore[misc]\u001B[39;00m\n\u001B[1;32m   1552\u001B[0m \u001B[38;5;28;01melse\u001B[39;00m:\n\u001B[0;32m-> 1553\u001B[0m     \u001B[38;5;28;01mreturn\u001B[39;00m \u001B[38;5;28;43mself\u001B[39;49m\u001B[38;5;241;43m.\u001B[39;49m\u001B[43m_call_impl\u001B[49m\u001B[43m(\u001B[49m\u001B[38;5;241;43m*\u001B[39;49m\u001B[43margs\u001B[49m\u001B[43m,\u001B[49m\u001B[43m \u001B[49m\u001B[38;5;241;43m*\u001B[39;49m\u001B[38;5;241;43m*\u001B[39;49m\u001B[43mkwargs\u001B[49m\u001B[43m)\u001B[49m\n",
      "File \u001B[0;32m~/anaconda3/envs/myproject/lib/python3.10/site-packages/torch/nn/modules/module.py:1562\u001B[0m, in \u001B[0;36mModule._call_impl\u001B[0;34m(self, *args, **kwargs)\u001B[0m\n\u001B[1;32m   1557\u001B[0m \u001B[38;5;66;03m# If we don't have any hooks, we want to skip the rest of the logic in\u001B[39;00m\n\u001B[1;32m   1558\u001B[0m \u001B[38;5;66;03m# this function, and just call forward.\u001B[39;00m\n\u001B[1;32m   1559\u001B[0m \u001B[38;5;28;01mif\u001B[39;00m \u001B[38;5;129;01mnot\u001B[39;00m (\u001B[38;5;28mself\u001B[39m\u001B[38;5;241m.\u001B[39m_backward_hooks \u001B[38;5;129;01mor\u001B[39;00m \u001B[38;5;28mself\u001B[39m\u001B[38;5;241m.\u001B[39m_backward_pre_hooks \u001B[38;5;129;01mor\u001B[39;00m \u001B[38;5;28mself\u001B[39m\u001B[38;5;241m.\u001B[39m_forward_hooks \u001B[38;5;129;01mor\u001B[39;00m \u001B[38;5;28mself\u001B[39m\u001B[38;5;241m.\u001B[39m_forward_pre_hooks\n\u001B[1;32m   1560\u001B[0m         \u001B[38;5;129;01mor\u001B[39;00m _global_backward_pre_hooks \u001B[38;5;129;01mor\u001B[39;00m _global_backward_hooks\n\u001B[1;32m   1561\u001B[0m         \u001B[38;5;129;01mor\u001B[39;00m _global_forward_hooks \u001B[38;5;129;01mor\u001B[39;00m _global_forward_pre_hooks):\n\u001B[0;32m-> 1562\u001B[0m     \u001B[38;5;28;01mreturn\u001B[39;00m \u001B[43mforward_call\u001B[49m\u001B[43m(\u001B[49m\u001B[38;5;241;43m*\u001B[39;49m\u001B[43margs\u001B[49m\u001B[43m,\u001B[49m\u001B[43m \u001B[49m\u001B[38;5;241;43m*\u001B[39;49m\u001B[38;5;241;43m*\u001B[39;49m\u001B[43mkwargs\u001B[49m\u001B[43m)\u001B[49m\n\u001B[1;32m   1564\u001B[0m \u001B[38;5;28;01mtry\u001B[39;00m:\n\u001B[1;32m   1565\u001B[0m     result \u001B[38;5;241m=\u001B[39m \u001B[38;5;28;01mNone\u001B[39;00m\n",
      "File \u001B[0;32m~/anaconda3/envs/myproject/lib/python3.10/site-packages/torch/nn/modules/conv.py:458\u001B[0m, in \u001B[0;36mConv2d.forward\u001B[0;34m(self, input)\u001B[0m\n\u001B[1;32m    457\u001B[0m \u001B[38;5;28;01mdef\u001B[39;00m \u001B[38;5;21mforward\u001B[39m(\u001B[38;5;28mself\u001B[39m, \u001B[38;5;28minput\u001B[39m: Tensor) \u001B[38;5;241m-\u001B[39m\u001B[38;5;241m>\u001B[39m Tensor:\n\u001B[0;32m--> 458\u001B[0m     \u001B[38;5;28;01mreturn\u001B[39;00m \u001B[38;5;28;43mself\u001B[39;49m\u001B[38;5;241;43m.\u001B[39;49m\u001B[43m_conv_forward\u001B[49m\u001B[43m(\u001B[49m\u001B[38;5;28;43minput\u001B[39;49m\u001B[43m,\u001B[49m\u001B[43m \u001B[49m\u001B[38;5;28;43mself\u001B[39;49m\u001B[38;5;241;43m.\u001B[39;49m\u001B[43mweight\u001B[49m\u001B[43m,\u001B[49m\u001B[43m \u001B[49m\u001B[38;5;28;43mself\u001B[39;49m\u001B[38;5;241;43m.\u001B[39;49m\u001B[43mbias\u001B[49m\u001B[43m)\u001B[49m\n",
      "File \u001B[0;32m~/anaconda3/envs/myproject/lib/python3.10/site-packages/torch/nn/modules/conv.py:454\u001B[0m, in \u001B[0;36mConv2d._conv_forward\u001B[0;34m(self, input, weight, bias)\u001B[0m\n\u001B[1;32m    450\u001B[0m \u001B[38;5;28;01mif\u001B[39;00m \u001B[38;5;28mself\u001B[39m\u001B[38;5;241m.\u001B[39mpadding_mode \u001B[38;5;241m!=\u001B[39m \u001B[38;5;124m'\u001B[39m\u001B[38;5;124mzeros\u001B[39m\u001B[38;5;124m'\u001B[39m:\n\u001B[1;32m    451\u001B[0m     \u001B[38;5;28;01mreturn\u001B[39;00m F\u001B[38;5;241m.\u001B[39mconv2d(F\u001B[38;5;241m.\u001B[39mpad(\u001B[38;5;28minput\u001B[39m, \u001B[38;5;28mself\u001B[39m\u001B[38;5;241m.\u001B[39m_reversed_padding_repeated_twice, mode\u001B[38;5;241m=\u001B[39m\u001B[38;5;28mself\u001B[39m\u001B[38;5;241m.\u001B[39mpadding_mode),\n\u001B[1;32m    452\u001B[0m                     weight, bias, \u001B[38;5;28mself\u001B[39m\u001B[38;5;241m.\u001B[39mstride,\n\u001B[1;32m    453\u001B[0m                     _pair(\u001B[38;5;241m0\u001B[39m), \u001B[38;5;28mself\u001B[39m\u001B[38;5;241m.\u001B[39mdilation, \u001B[38;5;28mself\u001B[39m\u001B[38;5;241m.\u001B[39mgroups)\n\u001B[0;32m--> 454\u001B[0m \u001B[38;5;28;01mreturn\u001B[39;00m \u001B[43mF\u001B[49m\u001B[38;5;241;43m.\u001B[39;49m\u001B[43mconv2d\u001B[49m\u001B[43m(\u001B[49m\u001B[38;5;28;43minput\u001B[39;49m\u001B[43m,\u001B[49m\u001B[43m \u001B[49m\u001B[43mweight\u001B[49m\u001B[43m,\u001B[49m\u001B[43m \u001B[49m\u001B[43mbias\u001B[49m\u001B[43m,\u001B[49m\u001B[43m \u001B[49m\u001B[38;5;28;43mself\u001B[39;49m\u001B[38;5;241;43m.\u001B[39;49m\u001B[43mstride\u001B[49m\u001B[43m,\u001B[49m\n\u001B[1;32m    455\u001B[0m \u001B[43m                \u001B[49m\u001B[38;5;28;43mself\u001B[39;49m\u001B[38;5;241;43m.\u001B[39;49m\u001B[43mpadding\u001B[49m\u001B[43m,\u001B[49m\u001B[43m \u001B[49m\u001B[38;5;28;43mself\u001B[39;49m\u001B[38;5;241;43m.\u001B[39;49m\u001B[43mdilation\u001B[49m\u001B[43m,\u001B[49m\u001B[43m \u001B[49m\u001B[38;5;28;43mself\u001B[39;49m\u001B[38;5;241;43m.\u001B[39;49m\u001B[43mgroups\u001B[49m\u001B[43m)\u001B[49m\n",
      "\u001B[0;31mKeyboardInterrupt\u001B[0m: "
     ]
    }
   ],
   "execution_count": 17
  },
  {
   "metadata": {
    "ExecuteTime": {
     "end_time": "2024-08-26T14:49:36.928583886Z",
     "start_time": "2024-08-23T16:48:49.427900Z"
    }
   },
   "cell_type": "code",
   "source": [
    "#Set up the loss funciton and optimizer\n",
    "loss_fn = nn.CrossEntropyLoss()\n",
    "optimizer = torch.optim.SGD(model_2.parameters(), lr=0.1)\n"
   ],
   "id": "76f98d897bf12045",
   "outputs": [],
   "execution_count": 142
  },
  {
   "metadata": {
    "ExecuteTime": {
     "end_time": "2024-08-26T14:49:36.929522679Z",
     "start_time": "2024-08-23T16:48:49.433992Z"
    }
   },
   "cell_type": "code",
   "source": [
    "def train_step(model: nn.Module,\n",
    "               data_loader: DataLoader,\n",
    "               loss_fn: nn.Module,\n",
    "               optimizer: torch.optim.Optimizer,\n",
    "               accuracy_fn,\n",
    "               device: torch.device = device):\n",
    "    train_loss , train_acc = 0, 0\n",
    "    model.train()\n",
    "    for  X,y in data_loader:\n",
    "        X, y = X.to(device), y.to(device)\n",
    "    #for batch_idx, (X,y) in train_dataloader:\n",
    "        y_pred = model(X)\n",
    "        loss = loss_fn(y_pred, y)\n",
    "        train_loss += loss.item()\n",
    "        train_acc += accuracy_fn(y, y_pred.argmax(dim=1))\n",
    "        optimizer.zero_grad()\n",
    "        loss.backward()\n",
    "        optimizer.step()\n",
    "    print(f\"Train loss: {(train_loss / len(data_loader)):.5f} | Train acc: {(train_acc / len(data_loader)):.5f} % on {device}\")"
   ],
   "id": "270720af094ebb54",
   "outputs": [],
   "execution_count": 143
  },
  {
   "metadata": {
    "ExecuteTime": {
     "end_time": "2024-08-26T14:49:36.929935374Z",
     "start_time": "2024-08-23T16:48:49.486181Z"
    }
   },
   "cell_type": "code",
   "source": [
    "def test_step(model: nn.Module,\n",
    "              data_loader: DataLoader,\n",
    "              loss_fn: nn.Module,\n",
    "              accuracy_fn,\n",
    "              device: torch.device = device):\n",
    "    test_loss , test_acc = 0, 0\n",
    "    model.eval()\n",
    "    with torch.inference_mode():\n",
    "        for X,y in data_loader:\n",
    "            X, y = X.to(device), y.to(device)\n",
    "            test_pred = model(X)\n",
    "            loss = loss_fn(test_pred, y)\n",
    "            test_loss += loss.item()\n",
    "            test_acc += accuracy_fn(y, test_pred.argmax(dim=1))\n",
    "        print(f\"Test loss: {(test_loss / len(data_loader)):.5f} | Test acc: {(test_acc / len(data_loader)):.5f} % on {device}\")  "
   ],
   "id": "6cc42c9c9830a352",
   "outputs": [],
   "execution_count": 144
  },
  {
   "metadata": {
    "ExecuteTime": {
     "end_time": "2024-08-26T14:49:36.930153584Z",
     "start_time": "2024-08-23T17:15:12.481870Z"
    }
   },
   "cell_type": "code",
   "source": [
    "def eval_model(model: nn.Module,\n",
    "               data_loader: DataLoader,\n",
    "               loss_fn: nn.Module,\n",
    "               accuracy_fn,\n",
    "               device: torch.device = device):\n",
    "    eval_loss, eval_acc = 0, 0\n",
    "    model.eval()\n",
    "    with torch.inference_mode():\n",
    "        for X,y in data_loader:\n",
    "            X, y = X.to(device), y.to(device)\n",
    "            eval_pred = model(X)\n",
    "            loss = loss_fn(eval_pred, y)\n",
    "            eval_loss += loss.item()\n",
    "            eval_acc += accuracy_fn(y, eval_pred.argmax(dim=1))\n",
    "    return {\"model_name\": model.__class__.__name__,\n",
    "            \"model_loss\": (eval_loss / len(data_loader)),\n",
    "            \"model_acc\": (eval_acc / len(data_loader)) }"
   ],
   "id": "e7ec08667f59f5b8",
   "outputs": [],
   "execution_count": 153
  },
  {
   "metadata": {
    "ExecuteTime": {
     "end_time": "2024-08-26T14:49:36.930591777Z",
     "start_time": "2024-08-23T16:48:49.541059Z"
    }
   },
   "cell_type": "code",
   "source": [
    "#Training and testing the model_2 using training and test\n",
    "torch.manual_seed(42)\n",
    "torch.cuda.manual_seed(42)\n",
    "\n",
    "EPOCHS  = 30\n",
    "train_time_start = timer()\n",
    "for epoch in tqdm(range(EPOCHS)):\n",
    "    print(f\"Epoch {epoch+1}/{EPOCHS}\")\n",
    "    train_step(model=model_2,\n",
    "               data_loader=train_dataloader,\n",
    "               loss_fn=loss_fn,\n",
    "               optimizer=optimizer,\n",
    "               accuracy_fn=helper_function.accuracy_fn,\n",
    "               device = device)\n",
    "    test_step(model=model_2,\n",
    "              data_loader=test_dataloader,\n",
    "              accuracy_fn=helper_function.accuracy_fn,\n",
    "              loss_fn=loss_fn,\n",
    "              device = device)\n",
    "train_time_end = timer()\n",
    "print(f\"Train time on {device}: {train_time_end - train_time_start} seconds\")\n"
   ],
   "id": "8d7a0f7ea51d9a45",
   "outputs": [
    {
     "data": {
      "text/plain": [
       "  0%|          | 0/30 [00:00<?, ?it/s]"
      ],
      "application/vnd.jupyter.widget-view+json": {
       "version_major": 2,
       "version_minor": 0,
       "model_id": "f0223ffeac4847f295b52c5489ac99dc"
      }
     },
     "metadata": {},
     "output_type": "display_data"
    },
    {
     "name": "stdout",
     "output_type": "stream",
     "text": [
      "Epoch 1/30\n",
      "Train loss: 0.59491 | Train acc: 78.30833 % on cuda\n",
      "Test loss: 0.37614 | Test acc: 86.56150 % on cuda\n",
      "Epoch 2/30\n",
      "Train loss: 0.35876 | Train acc: 87.02667 % on cuda\n",
      "Test loss: 0.34819 | Test acc: 87.61981 % on cuda\n",
      "Epoch 3/30\n",
      "Train loss: 0.32144 | Train acc: 88.37333 % on cuda\n",
      "Test loss: 0.34524 | Test acc: 87.50998 % on cuda\n",
      "Epoch 4/30\n",
      "Train loss: 0.30142 | Train acc: 89.01167 % on cuda\n",
      "Test loss: 0.31478 | Test acc: 88.73802 % on cuda\n",
      "Epoch 5/30\n",
      "Train loss: 0.28532 | Train acc: 89.60333 % on cuda\n",
      "Test loss: 0.30989 | Test acc: 88.87780 % on cuda\n",
      "Epoch 6/30\n",
      "Train loss: 0.27464 | Train acc: 90.02167 % on cuda\n",
      "Test loss: 0.30288 | Test acc: 89.49681 % on cuda\n",
      "Epoch 7/30\n",
      "Train loss: 0.26664 | Train acc: 90.40500 % on cuda\n",
      "Test loss: 0.28418 | Test acc: 89.70647 % on cuda\n",
      "Epoch 8/30\n",
      "Train loss: 0.25967 | Train acc: 90.58167 % on cuda\n",
      "Test loss: 0.29350 | Test acc: 89.52676 % on cuda\n",
      "Epoch 9/30\n",
      "Train loss: 0.25236 | Train acc: 90.68333 % on cuda\n",
      "Test loss: 0.30783 | Test acc: 89.00759 % on cuda\n",
      "Epoch 10/30\n",
      "Train loss: 0.24892 | Train acc: 90.99667 % on cuda\n",
      "Test loss: 0.29643 | Test acc: 89.69649 % on cuda\n",
      "Epoch 11/30\n",
      "Train loss: 0.24346 | Train acc: 91.20833 % on cuda\n",
      "Test loss: 0.28168 | Test acc: 90.36542 % on cuda\n",
      "Epoch 12/30\n",
      "Train loss: 0.24096 | Train acc: 91.18333 % on cuda\n",
      "Test loss: 0.28567 | Test acc: 89.67652 % on cuda\n",
      "Epoch 13/30\n",
      "Train loss: 0.23609 | Train acc: 91.31000 % on cuda\n",
      "Test loss: 0.29236 | Test acc: 89.57668 % on cuda\n",
      "Epoch 14/30\n",
      "Train loss: 0.23462 | Train acc: 91.42667 % on cuda\n",
      "Test loss: 0.28306 | Test acc: 89.98602 % on cuda\n",
      "Epoch 15/30\n",
      "Train loss: 0.23104 | Train acc: 91.52500 % on cuda\n",
      "Test loss: 0.29435 | Test acc: 89.47684 % on cuda\n",
      "Epoch 16/30\n",
      "Train loss: 0.22839 | Train acc: 91.58333 % on cuda\n",
      "Test loss: 0.29307 | Test acc: 89.38698 % on cuda\n",
      "Epoch 17/30\n",
      "Train loss: 0.22654 | Train acc: 91.58667 % on cuda\n",
      "Test loss: 0.28935 | Test acc: 89.57668 % on cuda\n",
      "Epoch 18/30\n",
      "Train loss: 0.22652 | Train acc: 91.68500 % on cuda\n",
      "Test loss: 0.29652 | Test acc: 89.48682 % on cuda\n",
      "Epoch 19/30\n",
      "Train loss: 0.22522 | Train acc: 91.66167 % on cuda\n",
      "Test loss: 0.30653 | Test acc: 88.99760 % on cuda\n",
      "Epoch 20/30\n",
      "Train loss: 0.21961 | Train acc: 91.96333 % on cuda\n",
      "Test loss: 0.28916 | Test acc: 89.68650 % on cuda\n",
      "Epoch 21/30\n",
      "Train loss: 0.21730 | Train acc: 91.98333 % on cuda\n",
      "Test loss: 0.27851 | Test acc: 90.32548 % on cuda\n",
      "Epoch 22/30\n",
      "Train loss: 0.21734 | Train acc: 92.07333 % on cuda\n",
      "Test loss: 0.27823 | Test acc: 90.40535 % on cuda\n",
      "Epoch 23/30\n",
      "Train loss: 0.21639 | Train acc: 92.12000 % on cuda\n",
      "Test loss: 0.28171 | Test acc: 89.95607 % on cuda\n",
      "Epoch 24/30\n",
      "Train loss: 0.21378 | Train acc: 92.13833 % on cuda\n",
      "Test loss: 0.28863 | Test acc: 89.64657 % on cuda\n",
      "Epoch 25/30\n",
      "Train loss: 0.21253 | Train acc: 92.26167 % on cuda\n",
      "Test loss: 0.28679 | Test acc: 90.15575 % on cuda\n",
      "Epoch 26/30\n",
      "Train loss: 0.20969 | Train acc: 92.24333 % on cuda\n",
      "Test loss: 0.27717 | Test acc: 90.00599 % on cuda\n",
      "Epoch 27/30\n",
      "Train loss: 0.20935 | Train acc: 92.36167 % on cuda\n",
      "Test loss: 0.28942 | Test acc: 89.87620 % on cuda\n",
      "Epoch 28/30\n",
      "Train loss: 0.20908 | Train acc: 92.34333 % on cuda\n",
      "Test loss: 0.27480 | Test acc: 90.04593 % on cuda\n",
      "Epoch 29/30\n",
      "Train loss: 0.20622 | Train acc: 92.40833 % on cuda\n",
      "Test loss: 0.29345 | Test acc: 89.85623 % on cuda\n",
      "Epoch 30/30\n",
      "Train loss: 0.20631 | Train acc: 92.39667 % on cuda\n",
      "Test loss: 0.27450 | Test acc: 89.91613 % on cuda\n",
      "Train time on cuda: 405.3856155579997 seconds\n"
     ]
    }
   ],
   "execution_count": 145
  },
  {
   "metadata": {
    "ExecuteTime": {
     "end_time": "2024-08-26T14:49:36.930994674Z",
     "start_time": "2024-08-23T17:15:19.719331Z"
    }
   },
   "cell_type": "code",
   "source": [
    "model_2_result = eval_model(model=model_2,\n",
    "                            data_loader=test_dataloader,\n",
    "                            accuracy_fn=helper_function.accuracy_fn,\n",
    "                            loss_fn=loss_fn,\n",
    "                            device = device)"
   ],
   "id": "5638d4db7bdac827",
   "outputs": [],
   "execution_count": 154
  },
  {
   "metadata": {
    "ExecuteTime": {
     "end_time": "2024-08-26T14:49:36.931273919Z",
     "start_time": "2024-08-23T17:15:30.904934Z"
    }
   },
   "cell_type": "code",
   "source": [
    "# Set up the predition function\n",
    "def make_prediction(model: nn.Module,\n",
    "                    data: list,\n",
    "                    device: torch.device = device):\n",
    "    pre_probs = []\n",
    "    model.to(device)\n",
    "    model.eval()\n",
    "    with torch.inference_mode():\n",
    "        for sample in data:\n",
    "            sample = torch.unsqueeze(sample, dim=0).to(device)\n",
    "            \n",
    "            pre_logit = model(sample)\n",
    "            \n",
    "            pre_probs = torch.softmax(pre_logit.squeeze(), dim=0)\n",
    "            \n",
    "            pre_probs.append(pre_probs.cpu())\n",
    "    \n",
    "    return torch.stack(pre_probs)\n",
    "            \n",
    "            \n",
    "            \n",
    "            \n",
    "            \n",
    "            \n",
    "            \n",
    "            \n",
    "            \n",
    "            \n",
    "            \n",
    "        "
   ],
   "id": "6d356de51c0a7b19",
   "outputs": [
    {
     "data": {
      "text/plain": [
       "{'model_name': 'FASHION_MNIST_Model_CNN',\n",
       " 'model_loss': 0.2745021011430425,\n",
       " 'model_acc': 89.91613418530352}"
      ]
     },
     "execution_count": 155,
     "metadata": {},
     "output_type": "execute_result"
    }
   ],
   "execution_count": 155
  }
 ],
 "metadata": {
  "kernelspec": {
   "display_name": "Python 3",
   "language": "python",
   "name": "python3"
  },
  "language_info": {
   "codemirror_mode": {
    "name": "ipython",
    "version": 2
   },
   "file_extension": ".py",
   "mimetype": "text/x-python",
   "name": "python",
   "nbconvert_exporter": "python",
   "pygments_lexer": "ipython2",
   "version": "2.7.6"
  }
 },
 "nbformat": 4,
 "nbformat_minor": 5
}
