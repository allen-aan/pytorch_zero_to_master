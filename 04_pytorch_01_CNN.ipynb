{
 "cells": [
  {
   "cell_type": "code",
   "id": "initial_id",
   "metadata": {
    "collapsed": true,
    "ExecuteTime": {
     "end_time": "2024-08-26T23:00:02.764117Z",
     "start_time": "2024-08-26T23:00:02.757869Z"
    }
   },
   "source": [
    "import torch \n",
    "import torch.nn as nn\n",
    "\n",
    "import torchvision\n",
    "from torchvision import datasets, transforms\n",
    "\n",
    "import matplotlib.pyplot as plt\n",
    "\n",
    "import pathlib\n",
    "from pathlib import Path\n",
    "\n",
    "from torch.utils.data import Dataset, DataLoader\n",
    "\n",
    "import os\n"
   ],
   "outputs": [],
   "execution_count": 60
  },
  {
   "metadata": {
    "ExecuteTime": {
     "end_time": "2024-08-26T23:00:02.772824Z",
     "start_time": "2024-08-26T23:00:02.770216Z"
    }
   },
   "cell_type": "code",
   "source": [
    "device = 'cuda' if torch.cuda.is_available() else 'cpu'\n",
    "device"
   ],
   "id": "ecba5b0baf45cfc8",
   "outputs": [
    {
     "data": {
      "text/plain": [
       "'cuda'"
      ]
     },
     "execution_count": 61,
     "metadata": {},
     "output_type": "execute_result"
    }
   ],
   "execution_count": 61
  },
  {
   "metadata": {
    "ExecuteTime": {
     "end_time": "2024-08-26T23:00:02.824459Z",
     "start_time": "2024-08-26T23:00:02.821264Z"
    }
   },
   "cell_type": "code",
   "source": [
    "#path\n",
    "data = Path('data')\n",
    "dataset = data / 'pizza_steak_sushi'\n",
    "train_dir = dataset / 'train'\n",
    "test_dir = dataset / 'test'"
   ],
   "id": "c409b9c09322a170",
   "outputs": [],
   "execution_count": 62
  },
  {
   "metadata": {
    "ExecuteTime": {
     "end_time": "2024-08-26T23:00:02.877600Z",
     "start_time": "2024-08-26T23:00:02.871998Z"
    }
   },
   "cell_type": "code",
   "source": [
    "#create data_transforms\n",
    "data_transforms = transforms.Compose([\n",
    "                                        transforms.Resize((64, 64)),\n",
    "                                        transforms.ToTensor()\n",
    "                                    ])"
   ],
   "id": "65144a19f997b11b",
   "outputs": [],
   "execution_count": 63
  },
  {
   "metadata": {
    "ExecuteTime": {
     "end_time": "2024-08-26T23:00:02.936609Z",
     "start_time": "2024-08-26T23:00:02.927961Z"
    }
   },
   "cell_type": "code",
   "source": [
    "#Transform data using ImageFolder\n",
    "train_dataset = datasets.ImageFolder(root = train_dir, \n",
    "                                     transform = data_transforms,\n",
    "                                     target_transform=None\n",
    "                                     )\n",
    "test_dataset = datasets.ImageFolder(root = test_dir,\n",
    "                                    transform = data_transforms,\n",
    "                                    target_transform=None)\n",
    "len(train_dataset),len(test_dataset)\n",
    "\n",
    "class_name = train_dataset.classes"
   ],
   "id": "735f0d15954be913",
   "outputs": [],
   "execution_count": 64
  },
  {
   "metadata": {
    "ExecuteTime": {
     "end_time": "2024-08-26T23:00:02.988095Z",
     "start_time": "2024-08-26T23:00:02.983204Z"
    }
   },
   "cell_type": "code",
   "source": [
    "#Hyper Peremeters\n",
    "BATCH_SIZE = 32\n",
    "NUM_WORKERS = os.cpu_count()"
   ],
   "id": "9c564d10add8d9a5",
   "outputs": [],
   "execution_count": 65
  },
  {
   "metadata": {
    "ExecuteTime": {
     "end_time": "2024-08-26T23:00:03.792223Z",
     "start_time": "2024-08-26T23:00:03.036257Z"
    }
   },
   "cell_type": "code",
   "source": [
    "# Create datelodaer\n",
    "train_dataloader = torch.utils.data.DataLoader(dataset=train_dataset,\n",
    "                                               batch_size=BATCH_SIZE,\n",
    "                                               shuffle=True,\n",
    "                                               num_workers=NUM_WORKERS\n",
    "                                               )\n",
    "test_dataloader = torch.utils.data.DataLoader(dataset=test_dataset,\n",
    "                                              batch_size=BATCH_SIZE,\n",
    "                                              shuffle=False,\n",
    "                                              num_workers=NUM_WORKERS\n",
    "                                              )\n",
    "img_batch, label_batch = next(iter(train_dataloader))"
   ],
   "id": "b00ee23d5af25adf",
   "outputs": [],
   "execution_count": 66
  },
  {
   "metadata": {
    "ExecuteTime": {
     "end_time": "2024-08-26T23:00:03.814559Z",
     "start_time": "2024-08-26T23:00:03.810612Z"
    }
   },
   "cell_type": "code",
   "source": [
    "#Create TinVGG model class\n",
    "class TinyVGG(nn.Module):\n",
    "    def __init__(self,\n",
    "                 input_shape: int,\n",
    "                 hidden_units: int,\n",
    "                 output_shape: int,\n",
    "                 ):\n",
    "        super(TinyVGG, self).__init__()\n",
    "        self.cnn_block_1 = nn.Sequential(\n",
    "            nn.Conv2d(input_shape,\n",
    "                      hidden_units,\n",
    "                      kernel_size=3,\n",
    "                      stride=1,\n",
    "                      padding=0),\n",
    "            nn.ReLU(),\n",
    "            nn.Conv2d(hidden_units,\n",
    "                      hidden_units,\n",
    "                      kernel_size=3,\n",
    "                      stride=1,\n",
    "                      padding=0),\n",
    "            nn.ReLU(),\n",
    "            nn.MaxPool2d(kernel_size=2,\n",
    "                         stride=2)\n",
    "        )\n",
    "        self.cnn_block_2 = nn.Sequential(\n",
    "            nn.Conv2d(hidden_units,\n",
    "                      hidden_units,\n",
    "                      kernel_size=3,\n",
    "                      stride=1,\n",
    "                      padding=0),\n",
    "            nn.ReLU(),\n",
    "            nn.Conv2d(hidden_units,\n",
    "                      hidden_units,\n",
    "                      kernel_size=3,\n",
    "                      stride=1,\n",
    "                      padding=0),\n",
    "            nn.ReLU(),\n",
    "            nn.MaxPool2d(kernel_size=2,\n",
    "                         stride=2)\n",
    "        )\n",
    "        self.linear_layer = nn.Sequential(\n",
    "            nn.Flatten(),\n",
    "            nn.Linear(hidden_units*13*13, \n",
    "                      output_shape)\n",
    "        )\n",
    "    def forward(self, x):\n",
    "        return self.linear_layer(self.cnn_block_2(self.cnn_block_1(x)))"
   ],
   "id": "af1776f6d9f37014",
   "outputs": [],
   "execution_count": 67
  },
  {
   "metadata": {
    "ExecuteTime": {
     "end_time": "2024-08-26T23:00:03.887556Z",
     "start_time": "2024-08-26T23:00:03.865828Z"
    }
   },
   "cell_type": "code",
   "source": [
    "torch.manual_seed(42)\n",
    "\n",
    "model_0 = TinyVGG(input_shape=3,\n",
    "                  hidden_units=10,\n",
    "                  output_shape=len(class_name)).to(device)\n",
    "model_0"
   ],
   "id": "b80e74ca363512f3",
   "outputs": [
    {
     "data": {
      "text/plain": [
       "TinyVGG(\n",
       "  (cnn_block_1): Sequential(\n",
       "    (0): Conv2d(3, 10, kernel_size=(3, 3), stride=(1, 1))\n",
       "    (1): ReLU()\n",
       "    (2): Conv2d(10, 10, kernel_size=(3, 3), stride=(1, 1))\n",
       "    (3): ReLU()\n",
       "    (4): MaxPool2d(kernel_size=2, stride=2, padding=0, dilation=1, ceil_mode=False)\n",
       "  )\n",
       "  (cnn_block_2): Sequential(\n",
       "    (0): Conv2d(10, 10, kernel_size=(3, 3), stride=(1, 1))\n",
       "    (1): ReLU()\n",
       "    (2): Conv2d(10, 10, kernel_size=(3, 3), stride=(1, 1))\n",
       "    (3): ReLU()\n",
       "    (4): MaxPool2d(kernel_size=2, stride=2, padding=0, dilation=1, ceil_mode=False)\n",
       "  )\n",
       "  (linear_layer): Sequential(\n",
       "    (0): Flatten(start_dim=1, end_dim=-1)\n",
       "    (1): Linear(in_features=1690, out_features=3, bias=True)\n",
       "  )\n",
       ")"
      ]
     },
     "execution_count": 68,
     "metadata": {},
     "output_type": "execute_result"
    }
   ],
   "execution_count": 68
  },
  {
   "metadata": {
    "ExecuteTime": {
     "end_time": "2024-08-26T23:00:04.000620Z",
     "start_time": "2024-08-26T23:00:03.978470Z"
    }
   },
   "cell_type": "code",
   "source": "model_0(img_batch.to(device))\n",
   "id": "a0624b3e7cef4aad",
   "outputs": [
    {
     "data": {
      "text/plain": [
       "tensor([[ 2.0789e-02, -1.9351e-03,  9.5318e-03],\n",
       "        [ 1.8427e-02,  2.4670e-03,  6.6757e-03],\n",
       "        [ 1.7699e-02,  1.0262e-03,  9.4657e-03],\n",
       "        [ 2.4441e-02, -3.3526e-03,  9.6011e-03],\n",
       "        [ 1.9930e-02,  6.6316e-04,  1.0779e-02],\n",
       "        [ 2.1281e-02,  2.0434e-03,  5.0046e-03],\n",
       "        [ 2.0999e-02,  1.2868e-04,  1.2473e-02],\n",
       "        [ 2.1577e-02, -1.9507e-03,  9.6941e-03],\n",
       "        [ 2.4504e-02, -4.7745e-03,  8.5280e-03],\n",
       "        [ 2.0252e-02, -4.7293e-04,  1.0908e-02],\n",
       "        [ 2.2215e-02, -4.1837e-04,  9.8123e-03],\n",
       "        [ 2.2313e-02, -2.1622e-03,  9.4455e-03],\n",
       "        [ 2.1841e-02, -3.7132e-03,  8.3783e-03],\n",
       "        [ 2.2863e-02, -1.7724e-03,  1.0287e-02],\n",
       "        [ 2.1647e-02, -4.4139e-03,  9.5021e-03],\n",
       "        [ 2.2096e-02, -4.1426e-03,  9.3853e-03],\n",
       "        [ 2.1209e-02, -4.4219e-03,  1.1475e-02],\n",
       "        [ 2.1711e-02, -2.7656e-03,  8.5006e-03],\n",
       "        [ 1.9951e-02,  2.8272e-05,  8.4380e-03],\n",
       "        [ 1.8298e-02,  1.6306e-03,  8.5499e-03],\n",
       "        [ 2.0768e-02,  1.7942e-03,  7.9412e-03],\n",
       "        [ 1.9834e-02, -3.9071e-03,  9.8740e-03],\n",
       "        [ 2.0893e-02,  1.3042e-04,  8.4190e-03],\n",
       "        [ 2.3202e-02, -3.4328e-03,  9.4937e-03],\n",
       "        [ 2.0501e-02, -2.5545e-03,  8.4874e-03],\n",
       "        [ 1.8145e-02,  2.0844e-03,  8.2223e-03],\n",
       "        [ 2.0304e-02, -1.7637e-03,  7.8751e-03],\n",
       "        [ 1.7263e-02, -3.3585e-04,  1.2474e-02],\n",
       "        [ 1.8347e-02, -1.5215e-03,  9.4640e-03],\n",
       "        [ 1.9868e-02, -2.3248e-03,  9.0062e-03],\n",
       "        [ 2.2065e-02, -4.6434e-03,  1.2666e-02],\n",
       "        [ 1.8059e-02,  2.6858e-03,  5.7898e-03]], device='cuda:0',\n",
       "       grad_fn=<AddmmBackward0>)"
      ]
     },
     "execution_count": 69,
     "metadata": {},
     "output_type": "execute_result"
    }
   ],
   "execution_count": 69
  },
  {
   "metadata": {
    "ExecuteTime": {
     "end_time": "2024-08-26T23:02:24.744421Z",
     "start_time": "2024-08-26T23:02:24.731881Z"
    }
   },
   "cell_type": "code",
   "source": [
    "#use torchinfo \n",
    "import torchinfo\n",
    "from torchinfo import summary\n",
    "\n",
    "summary(model_0, (32, 3, 64, 64))"
   ],
   "id": "89c957c4c8bb96c1",
   "outputs": [
    {
     "data": {
      "text/plain": [
       "==========================================================================================\n",
       "Layer (type:depth-idx)                   Output Shape              Param #\n",
       "==========================================================================================\n",
       "TinyVGG                                  [32, 3]                   --\n",
       "├─Sequential: 1-1                        [32, 10, 30, 30]          --\n",
       "│    └─Conv2d: 2-1                       [32, 10, 62, 62]          280\n",
       "│    └─ReLU: 2-2                         [32, 10, 62, 62]          --\n",
       "│    └─Conv2d: 2-3                       [32, 10, 60, 60]          910\n",
       "│    └─ReLU: 2-4                         [32, 10, 60, 60]          --\n",
       "│    └─MaxPool2d: 2-5                    [32, 10, 30, 30]          --\n",
       "├─Sequential: 1-2                        [32, 10, 13, 13]          --\n",
       "│    └─Conv2d: 2-6                       [32, 10, 28, 28]          910\n",
       "│    └─ReLU: 2-7                         [32, 10, 28, 28]          --\n",
       "│    └─Conv2d: 2-8                       [32, 10, 26, 26]          910\n",
       "│    └─ReLU: 2-9                         [32, 10, 26, 26]          --\n",
       "│    └─MaxPool2d: 2-10                   [32, 10, 13, 13]          --\n",
       "├─Sequential: 1-3                        [32, 3]                   --\n",
       "│    └─Flatten: 2-11                     [32, 1690]                --\n",
       "│    └─Linear: 2-12                      [32, 3]                   5,073\n",
       "==========================================================================================\n",
       "Total params: 8,083\n",
       "Trainable params: 8,083\n",
       "Non-trainable params: 0\n",
       "Total mult-adds (M): 181.95\n",
       "==========================================================================================\n",
       "Input size (MB): 1.57\n",
       "Forward/backward pass size (MB): 22.80\n",
       "Params size (MB): 0.03\n",
       "Estimated Total Size (MB): 24.40\n",
       "=========================================================================================="
      ]
     },
     "execution_count": 72,
     "metadata": {},
     "output_type": "execute_result"
    }
   ],
   "execution_count": 72
  }
 ],
 "metadata": {
  "kernelspec": {
   "display_name": "Python 3",
   "language": "python",
   "name": "python3"
  },
  "language_info": {
   "codemirror_mode": {
    "name": "ipython",
    "version": 2
   },
   "file_extension": ".py",
   "mimetype": "text/x-python",
   "name": "python",
   "nbconvert_exporter": "python",
   "pygments_lexer": "ipython2",
   "version": "2.7.6"
  }
 },
 "nbformat": 4,
 "nbformat_minor": 5
}
